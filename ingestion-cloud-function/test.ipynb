{
 "cells": [
  {
   "cell_type": "code",
   "execution_count": 1,
   "id": "fa875421",
   "metadata": {},
   "outputs": [
    {
     "name": "stderr",
     "output_type": "stream",
     "text": [
      "INFO:main:Using service account from: config/service_account.json\n",
      "INFO:main:Dataset vision_ml already exists\n",
      "INFO:main:Table qualified-acre-466511-u6.vision_ml.vision_ml_table is ready\n"
     ]
    }
   ],
   "source": [
    "from main import firestore_db"
   ]
  },
  {
   "cell_type": "code",
   "execution_count": null,
   "id": "d43e257b",
   "metadata": {},
   "outputs": [],
   "source": [
    "zone_id = \"Zone D\"\n",
    "\n",
    "previous_active_incidents = firestore_db.collection('incidents').where('zone_id', '==', zone_id).where('status', '==', 'active').get()"
   ]
  },
  {
   "cell_type": "code",
   "execution_count": 10,
   "id": "6f3f83da",
   "metadata": {},
   "outputs": [],
   "source": [
    "incident_simul = {\n",
    "    \"details\": {    \"confidence\": 1,\n",
    "    \"explanation\": \"The crowd is extremely dense, with individuals packed shoulder to shoulder.\",\n",
    "},\n",
    "    \"timestamps\": [\n",
    "      {\n",
    "        \"start\": 0,\n",
    "        \"end\": 9\n",
    "      }\n",
    "    ],\n",
    "    \"severity\": \"high\",\n",
    "    \"source\": \"gemini_mm\",\n",
    "    \"status\": \"active\",\n",
    "    \"timestamp\": \"2025-07-27T03:45:50.668Z\",\n",
    "    \"type\": \"crowd_surges\",\n",
    "    \"video_id\": \"2097a375-38dd-465b-ab27-7979b84e7ac2\",\n",
    "    \"zone_id\": \"Zone D\"\n",
    "  }"
   ]
  },
  {
   "cell_type": "code",
   "execution_count": 12,
   "id": "96fccfeb",
   "metadata": {},
   "outputs": [
    {
     "data": {
      "text/plain": [
       "update_time {\n",
       "  seconds: 1753589858\n",
       "  nanos: 368188000\n",
       "}"
      ]
     },
     "execution_count": 12,
     "metadata": {},
     "output_type": "execute_result"
    }
   ],
   "source": [
    "report_ref = firestore_db.collection('aggregrated_incidents').document()\n",
    "report_ref.set(incident_simul)"
   ]
  },
  {
   "cell_type": "code",
   "execution_count": null,
   "id": "f7e7c8db",
   "metadata": {},
   "outputs": [],
   "source": []
  },
  {
   "cell_type": "code",
   "execution_count": null,
   "id": "6dc52a10",
   "metadata": {},
   "outputs": [],
   "source": []
  },
  {
   "cell_type": "code",
   "execution_count": null,
   "id": "eac3e9b2",
   "metadata": {},
   "outputs": [],
   "source": [
    "incidents = [\n",
    "    {'type': 'congestion', 'source': 'gemini_mm', 'zone_id': 'Zone D', 'video_id': '2097a375-38dd-465b-ab27-7979b84e7ac2', 'severity': 'medium', 'timestamp': '2025-07-26T19:48:50.668Z', 'details': {'explanation': 'The crowd is extremely dense, with individuals standing shoulder-to-shoulder and very little personal space. Movement is severely restricted.', 'confidence': 0.95, 'timestamps': [{'end': 0.113, 'start': 0.0}]}, 'status': 'active'}\n",
    "]"
   ]
  },
  {
   "cell_type": "code",
   "execution_count": null,
   "id": "996fdd4c",
   "metadata": {},
   "outputs": [],
   "source": [
    "zone_id = \"Zone D\"\n",
    "\n",
    "current_active_incidents = firestore_db.collection('incidents').where('zone_id', '==', zone_id).where('status', '==', 'active')"
   ]
  },
  {
   "cell_type": "code",
   "execution_count": null,
   "id": "68fc2808",
   "metadata": {},
   "outputs": [],
   "source": [
    "current_active_incidents"
   ]
  },
  {
   "cell_type": "code",
   "execution_count": null,
   "id": "98998115",
   "metadata": {},
   "outputs": [],
   "source": []
  },
  {
   "cell_type": "code",
   "execution_count": null,
   "id": "40fd27bb",
   "metadata": {},
   "outputs": [],
   "source": [
    "current_active_incidents = firestore_db.collection('incidents').where('zone_id', '==', zone_id).where('status', '==', 'active').get()\n",
    "\n",
    "unique_types_in_active_incidents = set()\n",
    "for current_active_incident in current_active_incidents:\n",
    "    current_active_incident = current_active_incident.to_dict()\n",
    "    unique_types_in_active_incidents.add(current_active_incident.get('type'))"
   ]
  },
  {
   "cell_type": "code",
   "execution_count": null,
   "id": "a566bdf6",
   "metadata": {},
   "outputs": [],
   "source": [
    "current_active_incidents = firestore_db.collection('incidents').where('zone_id', '==', zone_id).where('status', '==', 'active').get()\n",
    "for incident in incidents:\n",
    "    # check if the incident is already in active status in that zone\n",
    "    for active_incident in current_active_incidents:\n",
    "        print(active_incident.get('type'))\n",
    "        if active_incident.get('type') == incident.get('type'):\n",
    "            break\n",
    "    print(incident)"
   ]
  },
  {
   "cell_type": "code",
   "execution_count": null,
   "id": "99558080",
   "metadata": {},
   "outputs": [],
   "source": [
    "current_active_incidents"
   ]
  },
  {
   "cell_type": "code",
   "execution_count": null,
   "id": "9086730d",
   "metadata": {},
   "outputs": [],
   "source": []
  }
 ],
 "metadata": {
  "kernelspec": {
   "display_name": "Python 3",
   "language": "python",
   "name": "python3"
  },
  "language_info": {
   "codemirror_mode": {
    "name": "ipython",
    "version": 3
   },
   "file_extension": ".py",
   "mimetype": "text/x-python",
   "name": "python",
   "nbconvert_exporter": "python",
   "pygments_lexer": "ipython3",
   "version": "3.11.0"
  }
 },
 "nbformat": 4,
 "nbformat_minor": 5
}
