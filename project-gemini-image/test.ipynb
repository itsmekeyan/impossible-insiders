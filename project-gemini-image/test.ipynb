{
 "cells": [
  {
   "cell_type": "code",
   "execution_count": 1,
   "id": "d1e03450",
   "metadata": {},
   "outputs": [],
   "source": [
    "from main import client, Part, analysis_prompt, recover_json, save_incident, db\n",
    "\n",
    "gcs_uri = \"gs://keyanvisionaibucket/visionintelligence/panic_test.mp4\""
   ]
  },
  {
   "cell_type": "code",
   "execution_count": 6,
   "id": "1e6ba39d",
   "metadata": {},
   "outputs": [],
   "source": [
    "response = client.models.generate_content(\n",
    "    model=\"gemini-2.5-flash\",\n",
    "    contents=[\n",
    "        Part.from_uri(\n",
    "            file_uri=gcs_uri,\n",
    "            mime_type=\"video/mp4\",\n",
    "        ),\n",
    "        analysis_prompt,\n",
    "    ],\n",
    ")\n",
    "\n",
    "analysis_result = recover_json(response.text)"
   ]
  },
  {
   "cell_type": "code",
   "execution_count": 7,
   "id": "22cd2f4f",
   "metadata": {},
   "outputs": [],
   "source": [
    "zone_id = \"west-zone\"\n",
    "video_id = \"123\"\n",
    "ts = \"2025-07-25T00:00:00Z\""
   ]
  },
  {
   "cell_type": "code",
   "execution_count": 8,
   "id": "d5f6fa6c",
   "metadata": {},
   "outputs": [
    {
     "data": {
      "text/plain": [
       "{'incidents': {'congestion': {'score': 1.0,\n",
       "   'explanation': 'The video shows extreme congestion with people packed shoulder to shoulder, making free movement impossible and causing crushing pressure.',\n",
       "   'timestamps': [{'start': 0.0, 'end': 0.17}]},\n",
       "  'crowd_surges': {'score': 1.0,\n",
       "   'explanation': 'Clear evidence of crowd surges is visible, particularly around 0:03-0:05 and 0:08-0:10, where individuals are seen being pushed, pulled, and losing their footing due to uncontrolled crowd movement.',\n",
       "   'timestamps': [{'start': 0.0, 'end': 0.17}]},\n",
       "  'unruly_behavior': {'score': 0.2,\n",
       "   'explanation': \"While the crowd is agitated and desperate to move, there isn't overt aggressive or unruly behavior directed at others. The pushing appears to be a direct consequence of the extreme congestion and surges, rather than intentional aggression.\",\n",
       "   'timestamps': []},\n",
       "  'panic_or_danger': {'score': 1.0,\n",
       "   'explanation': 'The video explicitly shows people in distress, some screaming, being crushed, and attempting to climb or escape the crowd pressure. Several individuals are seen falling or nearly falling, indicating a high level of panic and immediate danger.',\n",
       "   'timestamps': [{'start': 0.0, 'end': 0.17}]},\n",
       "  'injuries_from_objects': {'score': 0.0,\n",
       "   'explanation': 'No injuries from objects are visible in the video.',\n",
       "   'timestamps': []},\n",
       "  'injuries_from_slippery_surface': {'score': 0.0,\n",
       "   'explanation': 'There is no indication of a slippery surface. People appear to be falling due to immense crowd pressure, not ground conditions.',\n",
       "   'timestamps': []},\n",
       "  'cardiac_arrest': {'score': 0.0,\n",
       "   'explanation': 'No visual evidence of cardiac arrest.',\n",
       "   'timestamps': []},\n",
       "  'unauthorized_access': {'score': 0.0,\n",
       "   'explanation': 'The context is people trying to enter a stadium, not unauthorized access within the stadium area itself.',\n",
       "   'timestamps': []},\n",
       "  'theft': {'score': 0.0,\n",
       "   'explanation': 'No visual evidence of theft.',\n",
       "   'timestamps': []},\n",
       "  'unattended_bags': {'score': 0.0,\n",
       "   'explanation': 'No unattended bags are visible.',\n",
       "   'timestamps': []},\n",
       "  'weapon_detection': {'score': 0.0,\n",
       "   'explanation': 'No weapons are visible in the video.',\n",
       "   'timestamps': []},\n",
       "  'active_shooter': {'score': 0.0,\n",
       "   'explanation': 'No indication of an active shooter incident.',\n",
       "   'timestamps': []},\n",
       "  'property_damage': {'score': 0.0,\n",
       "   'explanation': 'No property damage is visible.',\n",
       "   'timestamps': []},\n",
       "  'missing_signage': {'score': 0.1,\n",
       "   'explanation': \"While specific signage isn't clear, the extreme congestion suggests a lack of effective crowd flow management, which could be exacerbated by insufficient or poorly placed signage. However, this is speculative.\",\n",
       "   'timestamps': []},\n",
       "  'fire_and_smoke': {'score': 0.0,\n",
       "   'explanation': 'No fire or smoke detected.',\n",
       "   'timestamps': []},\n",
       "  'structural_failures': {'score': 0.0,\n",
       "   'explanation': 'No structural failures are visible.',\n",
       "   'timestamps': []},\n",
       "  'weather_related_incidents': {'score': 0.0,\n",
       "   'explanation': 'The weather appears clear and is not a factor in the incident.',\n",
       "   'timestamps': []},\n",
       "  'equipment_malfunctions': {'score': 0.0,\n",
       "   'explanation': 'No equipment is shown or appears to be malfunctioning.',\n",
       "   'timestamps': []},\n",
       "  'staffing_shortages': {'score': 0.9,\n",
       "   'explanation': 'The sheer lack of visible personnel actively managing or controlling the crowd flow, despite the obvious danger, strongly suggests a significant staffing shortage or complete absence of crowd management officials.',\n",
       "   'timestamps': []},\n",
       "  'waste_management_failures': {'score': 0.0,\n",
       "   'explanation': 'No issues with waste management are visible.',\n",
       "   'timestamps': []},\n",
       "  'parking_or_traffic_congestion': {'score': 0.0,\n",
       "   'explanation': 'The video focuses on pedestrian crowd congestion, not vehicle traffic or parking.',\n",
       "   'timestamps': []}},\n",
       " 'crowd_density': {'persons_per_sq_m': 6.5,\n",
       "  'explanation': 'The crowd density is extremely high. In many parts of the frame, people are pressed tightly against each other, with virtually no personal space. This level of density (estimated 6-7 persons/sq meter) significantly impedes movement and poses a high risk of crushing.'},\n",
       " 'crowd_sentiment': {'score': -0.9,\n",
       "  'explanation': 'The crowd sentiment is overwhelmingly negative, characterized by distress, panic, fear, and desperation as individuals struggle to cope with the crushing pressure and uncontrolled surges.'},\n",
       " 'zone_capacity': {'estimated_capacity': None,\n",
       "  'explanation': 'It is not possible to estimate a specific numerical capacity for this outdoor area without knowing its dimensions and designated safe occupancy limits. However, it is clear that the current crowd significantly exceeds any safe capacity, given the visible distress and lack of movement.'},\n",
       " 'normalized_crowd_density': {'score': 1.0,\n",
       "  'explanation': 'Given the extreme congestion, visible distress, and people falling, the crowd is well beyond safe capacity, indicating a normalized crowd density of 1.0 (at or over capacity).'},\n",
       " 'normalized_flow_speed': {'score': 0.05,\n",
       "  'explanation': 'The crowd movement is severely restricted and almost static in many areas, with only uncontrolled surges pushing people. There is virtually no free or organized flow, indicating a very low normalized flow speed.'},\n",
       " 'overall_safety_assessment': 'The overall safety assessment is critical. The video depicts a highly dangerous crowd situation characterized by extreme congestion, uncontrollable crowd surges, and evident panic, leading to individuals falling and being crushed. The lack of visible crowd control measures exacerbates the risk. This situation has a very high potential for serious injuries or fatalities.',\n",
       " 'recommended_actions': ['Immediately implement emergency crowd dispersal procedures, if possible and safe to do so.',\n",
       "  'Deploy trained crowd control personnel and medical teams to extract individuals in distress and provide immediate aid.',\n",
       "  'Identify and open alternative exits or pathways to relieve pressure.',\n",
       "  'Establish clear communication channels to direct the crowd and issue safety warnings.',\n",
       "  'Conduct an urgent review of crowd management protocols for the venue, including entry/exit points, ticketing, and security staffing levels, to prevent future occurrences.']}"
      ]
     },
     "execution_count": 8,
     "metadata": {},
     "output_type": "execute_result"
    }
   ],
   "source": [
    "analysis_result"
   ]
  },
  {
   "cell_type": "code",
   "execution_count": 5,
   "id": "7d491229",
   "metadata": {},
   "outputs": [
    {
     "data": {
      "text/plain": [
       "10.0"
      ]
     },
     "execution_count": 5,
     "metadata": {},
     "output_type": "execute_result"
    }
   ],
   "source": [
    "1/0.1"
   ]
  },
  {
   "cell_type": "code",
   "execution_count": null,
   "metadata": {},
   "outputs": [],
   "source": [
    "incident_ids = []\n",
    "if 'incidents' in analysis_result:\n",
    "    for incident_type, incident_data in analysis_result['incidents'].items():\n",
    "        if incident_data.get('score', 0) > 0.5:\n",
    "            incident_id = save_incident(incident_type, incident_data, zone_id, video_id, ts)\n",
    "            incident_ids.append(incident_id)"
   ]
  },
  {
   "cell_type": "code",
   "execution_count": null,
   "metadata": {},
   "outputs": [],
   "source": [
    "# Save the overall analysis report\n",
    "report_ref = db.collection('analysis_reports').document()\n",
    "report_ref.set({\n",
    "    \"video_id\": video_id,\n",
    "    \"video_uri\": gcs_uri,\n",
    "    \"zone_id\": zone_id,\n",
    "    \"created_at\": ts,\n",
    "    \"overall_safety_assessment\": analysis_result.get(\"overall_safety_assessment\"),\n",
    "    \"recommended_actions\": analysis_result.get(\"recommended_actions\"),\n",
    "    \"incident_refs\": [db.collection('incidents').document(id) for id in incident_ids]\n",
    "})\n",
    "\n",
    "print(f\"Video analysis successful. Report ID: {report_ref.id}\")\n"
   ]
  }
 ],
 "metadata": {
  "kernelspec": {
   "display_name": "Python 3",
   "language": "python",
   "name": "python3"
  },
  "language_info": {
   "codemirror_mode": {
    "name": "ipython",
    "version": 3
   },
   "file_extension": ".py",
   "mimetype": "text/x-python",
   "name": "python",
   "nbconvert_exporter": "python",
   "pygments_lexer": "ipython3",
   "version": "3.11.0"
  }
 },
 "nbformat": 4,
 "nbformat_minor": 5
}
