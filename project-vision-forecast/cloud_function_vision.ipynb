{
 "cells": [
  {
   "cell_type": "code",
   "execution_count": 1,
   "id": "2564ec28",
   "metadata": {},
   "outputs": [],
   "source": [
    "from cloud_function_vision_ml import detect_faces_uri"
   ]
  },
  {
   "cell_type": "code",
   "execution_count": 2,
   "id": "357d99e5",
   "metadata": {},
   "outputs": [
    {
     "name": "stdout",
     "output_type": "stream",
     "text": [
      "Total faces detected:  10\n",
      "Faces:\n",
      "anger: VERY_UNLIKELY\n",
      "joy: VERY_UNLIKELY\n",
      "surprise: VERY_UNLIKELY\n",
      "face bounds: (1829,426),(1898,426),(1898,545),(1829,545)\n",
      "anger: VERY_UNLIKELY\n",
      "joy: VERY_LIKELY\n",
      "surprise: VERY_UNLIKELY\n",
      "face bounds: (599,411),(706,411),(706,536),(599,536)\n",
      "anger: VERY_UNLIKELY\n",
      "joy: VERY_UNLIKELY\n",
      "surprise: VERY_UNLIKELY\n",
      "face bounds: (1282,366),(1396,366),(1396,498),(1282,498)\n",
      "anger: VERY_UNLIKELY\n",
      "joy: VERY_UNLIKELY\n",
      "surprise: VERY_UNLIKELY\n",
      "face bounds: (949,415),(1060,415),(1060,544),(949,544)\n",
      "anger: VERY_UNLIKELY\n",
      "joy: POSSIBLE\n",
      "surprise: VERY_UNLIKELY\n",
      "face bounds: (10,330),(118,330),(118,457),(10,457)\n",
      "anger: VERY_UNLIKELY\n",
      "joy: VERY_UNLIKELY\n",
      "surprise: VERY_UNLIKELY\n",
      "face bounds: (1408,426),(1474,426),(1474,503),(1408,503)\n",
      "anger: VERY_UNLIKELY\n",
      "joy: VERY_UNLIKELY\n",
      "surprise: VERY_UNLIKELY\n",
      "face bounds: (729,316),(830,316),(830,434),(729,434)\n",
      "anger: VERY_UNLIKELY\n",
      "joy: UNLIKELY\n",
      "surprise: VERY_UNLIKELY\n",
      "face bounds: (240,384),(343,384),(343,504),(240,504)\n",
      "anger: VERY_UNLIKELY\n",
      "joy: VERY_LIKELY\n",
      "surprise: VERY_UNLIKELY\n",
      "face bounds: (394,417),(494,417),(494,534),(394,534)\n",
      "anger: VERY_UNLIKELY\n",
      "joy: VERY_UNLIKELY\n",
      "surprise: VERY_UNLIKELY\n",
      "face bounds: (132,414),(223,414),(223,521),(132,521)\n"
     ]
    }
   ],
   "source": [
    "image_uri = \"gs://keyanvisionaibucket/visionintelligence/image_test.png\"\n",
    "\n",
    "detect_faces_uri(image_uri)"
   ]
  },
  {
   "cell_type": "code",
   "execution_count": null,
   "id": "da41eb11",
   "metadata": {},
   "outputs": [],
   "source": []
  },
  {
   "cell_type": "code",
   "execution_count": 11,
   "metadata": {},
   "outputs": [
    {
     "name": "stdout",
     "output_type": "stream",
     "text": [
      "Message published with ID: 15708356154372553\n"
     ]
    }
   ],
   "source": [
    "# publish the message {\"image_uri\": \"gs://keyanvisionaibucket/visionintelligence/image_test.png\"} to the topic 'raw-video-stream'\n",
    "import json\n",
    "\n",
    "import os\n",
    "from google.cloud import pubsub_v1\n",
    "\n",
    "publisher = pubsub_v1.PublisherClient()\n",
    "topic_path = publisher.topic_path(\"qualified-acre-466511-u6\", \"raw-video-stream\")\n",
    "\n",
    "message = {\"image_uri\": \"gs://keyanvisionaibucket/visionintelligence/image_test.png\",\n",
    "           \"zone_id\": \"zone_1\",\n",
    "           \"timestamp\": \"2021-01-01 12:00:00\",\n",
    "           \"camera_id\": \"camera_1\"}\n",
    "\n",
    "future = publisher.publish(topic_path, json.dumps(message).encode(\"utf-8\"))\n",
    "\n",
    "print(f\"Message published with ID: {future.result()}\")\n"
   ]
  },
  {
   "cell_type": "code",
   "execution_count": null,
   "metadata": {},
   "outputs": [],
   "source": []
  },
  {
   "cell_type": "code",
   "execution_count": null,
   "id": "82ffc437",
   "metadata": {},
   "outputs": [],
   "source": []
  },
  {
   "cell_type": "code",
   "execution_count": null,
   "metadata": {},
   "outputs": [],
   "source": []
  },
  {
   "cell_type": "code",
   "execution_count": null,
   "metadata": {},
   "outputs": [],
   "source": []
  },
  {
   "cell_type": "code",
   "execution_count": null,
   "metadata": {},
   "outputs": [],
   "source": []
  }
 ],
 "metadata": {
  "kernelspec": {
   "display_name": "Python 3",
   "language": "python",
   "name": "python3"
  },
  "language_info": {
   "codemirror_mode": {
    "name": "ipython",
    "version": 3
   },
   "file_extension": ".py",
   "mimetype": "text/x-python",
   "name": "python",
   "nbconvert_exporter": "python",
   "pygments_lexer": "ipython3",
   "version": "3.11.0"
  }
 },
 "nbformat": 4,
 "nbformat_minor": 5
}
