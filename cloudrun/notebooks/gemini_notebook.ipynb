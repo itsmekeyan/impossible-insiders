{
 "cells": [
  {
   "cell_type": "code",
   "execution_count": null,
   "id": "7586f8ee",
   "metadata": {},
   "outputs": [],
   "source": [
    "from main import client, Part, analysis_prompt, recover_json, save_incident, db\n",
    "\n",
    "gcs_uri = \"gs://keyanvisionaibucket/visionintelligence/panic_test.mp4\"\n",
    "response = client.models.generate_content(\n",
    "    model=\"gemini-2.5-flash\",\n",
    "    contents=[\n",
    "        Part.from_uri(\n",
    "            file_uri=gcs_uri,\n",
    "            mime_type=\"video/mp4\",\n",
    "        ),\n",
    "        analysis_prompt,\n",
    "    ],\n",
    ")\n",
    "\n",
    "analysis_result = recover_json(response.text)\n",
    "zone_id = \"west-zone\"\n",
    "video_id = \"123\"\n",
    "ts = \"2025-07-25T00:00:00Z\"\n",
    "analysis_result\n",
    "1/0.1\n",
    "incident_ids = []\n",
    "if 'incidents' in analysis_result:\n",
    "    for incident_type, incident_data in analysis_result['incidents'].items():\n",
    "        if incident_data.get('score', 0) > 0.5:\n",
    "            incident_id = save_incident(incident_type, incident_data, zone_id, video_id, ts)\n",
    "            incident_ids.append(incident_id)\n",
    "# Save the overall analysis report\n",
    "report_ref = db.collection('analysis_reports').document()\n",
    "report_ref.set({\n",
    "    \"video_id\": video_id,\n",
    "    \"video_uri\": gcs_uri,\n",
    "    \"zone_id\": zone_id,\n",
    "    \"created_at\": ts,\n",
    "    \"overall_safety_assessment\": analysis_result.get(\"overall_safety_assessment\"),\n",
    "    \"recommended_actions\": analysis_result.get(\"recommended_actions\"),\n",
    "    \"incident_refs\": [db.collection('incidents').document(id) for id in incident_ids]\n",
    "})\n",
    "\n",
    "print(f\"Video analysis successful. Report ID: {report_ref.id}\")\n"
   ]
  }
 ],
 "metadata": {
  "language_info": {
   "name": "python"
  }
 },
 "nbformat": 4,
 "nbformat_minor": 5
}
